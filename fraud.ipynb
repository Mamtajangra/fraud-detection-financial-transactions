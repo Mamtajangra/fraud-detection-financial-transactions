{
  "cells": [
    {
      "cell_type": "code",
      "execution_count": null,
      "metadata": {},
      "outputs": [],
      "source": [
        "\n",
        "# import pandas as pd\n",
        "# import os\n",
        "\n",
        "# # Load full dataset\n",
        "# df_full = pd.read_csv(\"Fraud.csv\")\n",
        "\n",
        "# # Create sample of 10,000 rows\n",
        "# df_sample = df_full.sample(100000, random_state=42)\n",
        "# df_sample.to_csv(\"sample_fraud.csv\", index=False)\n",
        "\n",
        "# # Load sample\n",
        "# df = pd.read_csv(\"sample_fraud.csv\")\n",
        "\n",
        "\n",
        "# df.head()\n",
        "\n",
        "# # Shape & size\n",
        "# print(df.shape)\n",
        "# file_size = os.path.getsize(\"sample_fraud.csv\") / (1024 * 1024)\n",
        "# print(f\"File Size: {file_size:.2f} MB\")\n"
      ]
    },
    {
      "cell_type": "code",
      "execution_count": 75,
      "metadata": {},
      "outputs": [],
      "source": [
        "# import numpy as np\n",
        "\n",
        "# chunk1 = df.iloc[:500000]\n",
        "# chunk2 = df.iloc[500000:1000000]\n",
        "# chunk3 = df.iloc[1000000:]\n",
        "\n",
        "# chunk1.to_csv(\"fraud_part1.csv\", index=False)\n",
        "# chunk2.to_csv(\"fraud_part2.csv\", index=False)\n",
        "# chunk3.to_csv(\"fraud_part3.csv\", index=False)"
      ]
    },
    {
      "cell_type": "code",
      "execution_count": 76,
      "metadata": {
        "id": "6sVCYzYXjzQ0"
      },
      "outputs": [],
      "source": [
        "import pandas as pd\n",
        "import numpy as np\n",
        "import seaborn as sns\n",
        "import matplotlib.pyplot as plt"
      ]
    },
    {
      "cell_type": "markdown",
      "metadata": {
        "id": "I0qFyTqQBYLj"
      },
      "source": [
        "load the dataset\n"
      ]
    },
    {
      "cell_type": "code",
      "execution_count": 77,
      "metadata": {
        "colab": {
          "base_uri": "https://localhost:8080/",
          "height": 444
        },
        "id": "1OB68Hh4kz2h",
        "outputId": "438a7dc7-bb1f-4c02-a355-30714035a484"
      },
      "outputs": [
        {
          "data": {
            "text/html": [
              "<div>\n",
              "<style scoped>\n",
              "    .dataframe tbody tr th:only-of-type {\n",
              "        vertical-align: middle;\n",
              "    }\n",
              "\n",
              "    .dataframe tbody tr th {\n",
              "        vertical-align: top;\n",
              "    }\n",
              "\n",
              "    .dataframe thead th {\n",
              "        text-align: right;\n",
              "    }\n",
              "</style>\n",
              "<table border=\"1\" class=\"dataframe\">\n",
              "  <thead>\n",
              "    <tr style=\"text-align: right;\">\n",
              "      <th></th>\n",
              "      <th>step</th>\n",
              "      <th>type</th>\n",
              "      <th>amount</th>\n",
              "      <th>nameOrig</th>\n",
              "      <th>oldbalanceOrg</th>\n",
              "      <th>newbalanceOrig</th>\n",
              "      <th>nameDest</th>\n",
              "      <th>oldbalanceDest</th>\n",
              "      <th>newbalanceDest</th>\n",
              "      <th>isFraud</th>\n",
              "      <th>isFlaggedFraud</th>\n",
              "    </tr>\n",
              "  </thead>\n",
              "  <tbody>\n",
              "    <tr>\n",
              "      <th>0</th>\n",
              "      <td>278</td>\n",
              "      <td>CASH_IN</td>\n",
              "      <td>330218.42</td>\n",
              "      <td>C632336343</td>\n",
              "      <td>20866.00</td>\n",
              "      <td>351084.42</td>\n",
              "      <td>C834976624</td>\n",
              "      <td>452419.57</td>\n",
              "      <td>122201.15</td>\n",
              "      <td>0</td>\n",
              "      <td>0</td>\n",
              "    </tr>\n",
              "    <tr>\n",
              "      <th>1</th>\n",
              "      <td>15</td>\n",
              "      <td>PAYMENT</td>\n",
              "      <td>11647.08</td>\n",
              "      <td>C1264712553</td>\n",
              "      <td>30370.00</td>\n",
              "      <td>18722.92</td>\n",
              "      <td>M215391829</td>\n",
              "      <td>0.00</td>\n",
              "      <td>0.00</td>\n",
              "      <td>0</td>\n",
              "      <td>0</td>\n",
              "    </tr>\n",
              "    <tr>\n",
              "      <th>2</th>\n",
              "      <td>10</td>\n",
              "      <td>CASH_IN</td>\n",
              "      <td>152264.21</td>\n",
              "      <td>C1746846248</td>\n",
              "      <td>106589.00</td>\n",
              "      <td>258853.21</td>\n",
              "      <td>C1607284477</td>\n",
              "      <td>201303.01</td>\n",
              "      <td>49038.80</td>\n",
              "      <td>0</td>\n",
              "      <td>0</td>\n",
              "    </tr>\n",
              "    <tr>\n",
              "      <th>3</th>\n",
              "      <td>403</td>\n",
              "      <td>TRANSFER</td>\n",
              "      <td>1551760.63</td>\n",
              "      <td>C333676753</td>\n",
              "      <td>0.00</td>\n",
              "      <td>0.00</td>\n",
              "      <td>C1564353608</td>\n",
              "      <td>3198359.45</td>\n",
              "      <td>4750120.08</td>\n",
              "      <td>0</td>\n",
              "      <td>0</td>\n",
              "    </tr>\n",
              "    <tr>\n",
              "      <th>4</th>\n",
              "      <td>206</td>\n",
              "      <td>CASH_IN</td>\n",
              "      <td>78172.30</td>\n",
              "      <td>C813403091</td>\n",
              "      <td>2921331.58</td>\n",
              "      <td>2999503.88</td>\n",
              "      <td>C1091768874</td>\n",
              "      <td>415821.90</td>\n",
              "      <td>337649.60</td>\n",
              "      <td>0</td>\n",
              "      <td>0</td>\n",
              "    </tr>\n",
              "    <tr>\n",
              "      <th>...</th>\n",
              "      <td>...</td>\n",
              "      <td>...</td>\n",
              "      <td>...</td>\n",
              "      <td>...</td>\n",
              "      <td>...</td>\n",
              "      <td>...</td>\n",
              "      <td>...</td>\n",
              "      <td>...</td>\n",
              "      <td>...</td>\n",
              "      <td>...</td>\n",
              "      <td>...</td>\n",
              "    </tr>\n",
              "    <tr>\n",
              "      <th>99995</th>\n",
              "      <td>235</td>\n",
              "      <td>CASH_IN</td>\n",
              "      <td>371042.71</td>\n",
              "      <td>C1973614102</td>\n",
              "      <td>1699365.85</td>\n",
              "      <td>2070408.56</td>\n",
              "      <td>C1358214518</td>\n",
              "      <td>4301572.86</td>\n",
              "      <td>3930530.15</td>\n",
              "      <td>0</td>\n",
              "      <td>0</td>\n",
              "    </tr>\n",
              "    <tr>\n",
              "      <th>99996</th>\n",
              "      <td>357</td>\n",
              "      <td>CASH_IN</td>\n",
              "      <td>19494.57</td>\n",
              "      <td>C287170039</td>\n",
              "      <td>1921089.11</td>\n",
              "      <td>1940583.68</td>\n",
              "      <td>C159882434</td>\n",
              "      <td>75635.52</td>\n",
              "      <td>56140.95</td>\n",
              "      <td>0</td>\n",
              "      <td>0</td>\n",
              "    </tr>\n",
              "    <tr>\n",
              "      <th>99997</th>\n",
              "      <td>369</td>\n",
              "      <td>CASH_OUT</td>\n",
              "      <td>141519.24</td>\n",
              "      <td>C387888280</td>\n",
              "      <td>0.00</td>\n",
              "      <td>0.00</td>\n",
              "      <td>C999640037</td>\n",
              "      <td>12853274.23</td>\n",
              "      <td>12994793.47</td>\n",
              "      <td>0</td>\n",
              "      <td>0</td>\n",
              "    </tr>\n",
              "    <tr>\n",
              "      <th>99998</th>\n",
              "      <td>154</td>\n",
              "      <td>CASH_IN</td>\n",
              "      <td>635412.68</td>\n",
              "      <td>C1458432906</td>\n",
              "      <td>58610.00</td>\n",
              "      <td>694022.68</td>\n",
              "      <td>C8292738</td>\n",
              "      <td>0.00</td>\n",
              "      <td>0.00</td>\n",
              "      <td>0</td>\n",
              "      <td>0</td>\n",
              "    </tr>\n",
              "    <tr>\n",
              "      <th>99999</th>\n",
              "      <td>545</td>\n",
              "      <td>PAYMENT</td>\n",
              "      <td>31617.57</td>\n",
              "      <td>C1314607150</td>\n",
              "      <td>10626.00</td>\n",
              "      <td>0.00</td>\n",
              "      <td>M1600734161</td>\n",
              "      <td>0.00</td>\n",
              "      <td>0.00</td>\n",
              "      <td>0</td>\n",
              "      <td>0</td>\n",
              "    </tr>\n",
              "  </tbody>\n",
              "</table>\n",
              "<p>100000 rows × 11 columns</p>\n",
              "</div>"
            ],
            "text/plain": [
              "       step      type      amount     nameOrig  oldbalanceOrg  newbalanceOrig  \\\n",
              "0       278   CASH_IN   330218.42   C632336343       20866.00       351084.42   \n",
              "1        15   PAYMENT    11647.08  C1264712553       30370.00        18722.92   \n",
              "2        10   CASH_IN   152264.21  C1746846248      106589.00       258853.21   \n",
              "3       403  TRANSFER  1551760.63   C333676753           0.00            0.00   \n",
              "4       206   CASH_IN    78172.30   C813403091     2921331.58      2999503.88   \n",
              "...     ...       ...         ...          ...            ...             ...   \n",
              "99995   235   CASH_IN   371042.71  C1973614102     1699365.85      2070408.56   \n",
              "99996   357   CASH_IN    19494.57   C287170039     1921089.11      1940583.68   \n",
              "99997   369  CASH_OUT   141519.24   C387888280           0.00            0.00   \n",
              "99998   154   CASH_IN   635412.68  C1458432906       58610.00       694022.68   \n",
              "99999   545   PAYMENT    31617.57  C1314607150       10626.00            0.00   \n",
              "\n",
              "          nameDest  oldbalanceDest  newbalanceDest  isFraud  isFlaggedFraud  \n",
              "0       C834976624       452419.57       122201.15        0               0  \n",
              "1       M215391829            0.00            0.00        0               0  \n",
              "2      C1607284477       201303.01        49038.80        0               0  \n",
              "3      C1564353608      3198359.45      4750120.08        0               0  \n",
              "4      C1091768874       415821.90       337649.60        0               0  \n",
              "...            ...             ...             ...      ...             ...  \n",
              "99995  C1358214518      4301572.86      3930530.15        0               0  \n",
              "99996   C159882434        75635.52        56140.95        0               0  \n",
              "99997   C999640037     12853274.23     12994793.47        0               0  \n",
              "99998     C8292738            0.00            0.00        0               0  \n",
              "99999  M1600734161            0.00            0.00        0               0  \n",
              "\n",
              "[100000 rows x 11 columns]"
            ]
          },
          "execution_count": 77,
          "metadata": {},
          "output_type": "execute_result"
        }
      ],
      "source": [
        "df = pd.read_csv(\"fraud_part1.csv\")\n",
        "df\n"
      ]
    },
    {
      "cell_type": "code",
      "execution_count": 78,
      "metadata": {
        "colab": {
          "base_uri": "https://localhost:8080/",
          "height": 226
        },
        "id": "I86qurHrlKK-",
        "outputId": "4ec55460-a413-479e-c8cf-9bac28be0c2f"
      },
      "outputs": [
        {
          "data": {
            "text/html": [
              "<div>\n",
              "<style scoped>\n",
              "    .dataframe tbody tr th:only-of-type {\n",
              "        vertical-align: middle;\n",
              "    }\n",
              "\n",
              "    .dataframe tbody tr th {\n",
              "        vertical-align: top;\n",
              "    }\n",
              "\n",
              "    .dataframe thead th {\n",
              "        text-align: right;\n",
              "    }\n",
              "</style>\n",
              "<table border=\"1\" class=\"dataframe\">\n",
              "  <thead>\n",
              "    <tr style=\"text-align: right;\">\n",
              "      <th></th>\n",
              "      <th>step</th>\n",
              "      <th>type</th>\n",
              "      <th>amount</th>\n",
              "      <th>nameOrig</th>\n",
              "      <th>oldbalanceOrg</th>\n",
              "      <th>newbalanceOrig</th>\n",
              "      <th>nameDest</th>\n",
              "      <th>oldbalanceDest</th>\n",
              "      <th>newbalanceDest</th>\n",
              "      <th>isFraud</th>\n",
              "      <th>isFlaggedFraud</th>\n",
              "    </tr>\n",
              "  </thead>\n",
              "  <tbody>\n",
              "    <tr>\n",
              "      <th>0</th>\n",
              "      <td>278</td>\n",
              "      <td>CASH_IN</td>\n",
              "      <td>330218.42</td>\n",
              "      <td>C632336343</td>\n",
              "      <td>20866.00</td>\n",
              "      <td>351084.42</td>\n",
              "      <td>C834976624</td>\n",
              "      <td>452419.57</td>\n",
              "      <td>122201.15</td>\n",
              "      <td>0</td>\n",
              "      <td>0</td>\n",
              "    </tr>\n",
              "    <tr>\n",
              "      <th>1</th>\n",
              "      <td>15</td>\n",
              "      <td>PAYMENT</td>\n",
              "      <td>11647.08</td>\n",
              "      <td>C1264712553</td>\n",
              "      <td>30370.00</td>\n",
              "      <td>18722.92</td>\n",
              "      <td>M215391829</td>\n",
              "      <td>0.00</td>\n",
              "      <td>0.00</td>\n",
              "      <td>0</td>\n",
              "      <td>0</td>\n",
              "    </tr>\n",
              "    <tr>\n",
              "      <th>2</th>\n",
              "      <td>10</td>\n",
              "      <td>CASH_IN</td>\n",
              "      <td>152264.21</td>\n",
              "      <td>C1746846248</td>\n",
              "      <td>106589.00</td>\n",
              "      <td>258853.21</td>\n",
              "      <td>C1607284477</td>\n",
              "      <td>201303.01</td>\n",
              "      <td>49038.80</td>\n",
              "      <td>0</td>\n",
              "      <td>0</td>\n",
              "    </tr>\n",
              "    <tr>\n",
              "      <th>3</th>\n",
              "      <td>403</td>\n",
              "      <td>TRANSFER</td>\n",
              "      <td>1551760.63</td>\n",
              "      <td>C333676753</td>\n",
              "      <td>0.00</td>\n",
              "      <td>0.00</td>\n",
              "      <td>C1564353608</td>\n",
              "      <td>3198359.45</td>\n",
              "      <td>4750120.08</td>\n",
              "      <td>0</td>\n",
              "      <td>0</td>\n",
              "    </tr>\n",
              "    <tr>\n",
              "      <th>4</th>\n",
              "      <td>206</td>\n",
              "      <td>CASH_IN</td>\n",
              "      <td>78172.30</td>\n",
              "      <td>C813403091</td>\n",
              "      <td>2921331.58</td>\n",
              "      <td>2999503.88</td>\n",
              "      <td>C1091768874</td>\n",
              "      <td>415821.90</td>\n",
              "      <td>337649.60</td>\n",
              "      <td>0</td>\n",
              "      <td>0</td>\n",
              "    </tr>\n",
              "  </tbody>\n",
              "</table>\n",
              "</div>"
            ],
            "text/plain": [
              "   step      type      amount     nameOrig  oldbalanceOrg  newbalanceOrig  \\\n",
              "0   278   CASH_IN   330218.42   C632336343       20866.00       351084.42   \n",
              "1    15   PAYMENT    11647.08  C1264712553       30370.00        18722.92   \n",
              "2    10   CASH_IN   152264.21  C1746846248      106589.00       258853.21   \n",
              "3   403  TRANSFER  1551760.63   C333676753           0.00            0.00   \n",
              "4   206   CASH_IN    78172.30   C813403091     2921331.58      2999503.88   \n",
              "\n",
              "      nameDest  oldbalanceDest  newbalanceDest  isFraud  isFlaggedFraud  \n",
              "0   C834976624       452419.57       122201.15        0               0  \n",
              "1   M215391829            0.00            0.00        0               0  \n",
              "2  C1607284477       201303.01        49038.80        0               0  \n",
              "3  C1564353608      3198359.45      4750120.08        0               0  \n",
              "4  C1091768874       415821.90       337649.60        0               0  "
            ]
          },
          "execution_count": 78,
          "metadata": {},
          "output_type": "execute_result"
        }
      ],
      "source": [
        "df.head(5)     ## first 5 rows"
      ]
    },
    {
      "cell_type": "code",
      "execution_count": 79,
      "metadata": {
        "colab": {
          "base_uri": "https://localhost:8080/",
          "height": 226
        },
        "id": "EyWdgejJlNp6",
        "outputId": "58a863d3-c853-42eb-b265-ddd481e124e2"
      },
      "outputs": [
        {
          "data": {
            "text/html": [
              "<div>\n",
              "<style scoped>\n",
              "    .dataframe tbody tr th:only-of-type {\n",
              "        vertical-align: middle;\n",
              "    }\n",
              "\n",
              "    .dataframe tbody tr th {\n",
              "        vertical-align: top;\n",
              "    }\n",
              "\n",
              "    .dataframe thead th {\n",
              "        text-align: right;\n",
              "    }\n",
              "</style>\n",
              "<table border=\"1\" class=\"dataframe\">\n",
              "  <thead>\n",
              "    <tr style=\"text-align: right;\">\n",
              "      <th></th>\n",
              "      <th>step</th>\n",
              "      <th>type</th>\n",
              "      <th>amount</th>\n",
              "      <th>nameOrig</th>\n",
              "      <th>oldbalanceOrg</th>\n",
              "      <th>newbalanceOrig</th>\n",
              "      <th>nameDest</th>\n",
              "      <th>oldbalanceDest</th>\n",
              "      <th>newbalanceDest</th>\n",
              "      <th>isFraud</th>\n",
              "      <th>isFlaggedFraud</th>\n",
              "    </tr>\n",
              "  </thead>\n",
              "  <tbody>\n",
              "    <tr>\n",
              "      <th>99995</th>\n",
              "      <td>235</td>\n",
              "      <td>CASH_IN</td>\n",
              "      <td>371042.71</td>\n",
              "      <td>C1973614102</td>\n",
              "      <td>1699365.85</td>\n",
              "      <td>2070408.56</td>\n",
              "      <td>C1358214518</td>\n",
              "      <td>4301572.86</td>\n",
              "      <td>3930530.15</td>\n",
              "      <td>0</td>\n",
              "      <td>0</td>\n",
              "    </tr>\n",
              "    <tr>\n",
              "      <th>99996</th>\n",
              "      <td>357</td>\n",
              "      <td>CASH_IN</td>\n",
              "      <td>19494.57</td>\n",
              "      <td>C287170039</td>\n",
              "      <td>1921089.11</td>\n",
              "      <td>1940583.68</td>\n",
              "      <td>C159882434</td>\n",
              "      <td>75635.52</td>\n",
              "      <td>56140.95</td>\n",
              "      <td>0</td>\n",
              "      <td>0</td>\n",
              "    </tr>\n",
              "    <tr>\n",
              "      <th>99997</th>\n",
              "      <td>369</td>\n",
              "      <td>CASH_OUT</td>\n",
              "      <td>141519.24</td>\n",
              "      <td>C387888280</td>\n",
              "      <td>0.00</td>\n",
              "      <td>0.00</td>\n",
              "      <td>C999640037</td>\n",
              "      <td>12853274.23</td>\n",
              "      <td>12994793.47</td>\n",
              "      <td>0</td>\n",
              "      <td>0</td>\n",
              "    </tr>\n",
              "    <tr>\n",
              "      <th>99998</th>\n",
              "      <td>154</td>\n",
              "      <td>CASH_IN</td>\n",
              "      <td>635412.68</td>\n",
              "      <td>C1458432906</td>\n",
              "      <td>58610.00</td>\n",
              "      <td>694022.68</td>\n",
              "      <td>C8292738</td>\n",
              "      <td>0.00</td>\n",
              "      <td>0.00</td>\n",
              "      <td>0</td>\n",
              "      <td>0</td>\n",
              "    </tr>\n",
              "    <tr>\n",
              "      <th>99999</th>\n",
              "      <td>545</td>\n",
              "      <td>PAYMENT</td>\n",
              "      <td>31617.57</td>\n",
              "      <td>C1314607150</td>\n",
              "      <td>10626.00</td>\n",
              "      <td>0.00</td>\n",
              "      <td>M1600734161</td>\n",
              "      <td>0.00</td>\n",
              "      <td>0.00</td>\n",
              "      <td>0</td>\n",
              "      <td>0</td>\n",
              "    </tr>\n",
              "  </tbody>\n",
              "</table>\n",
              "</div>"
            ],
            "text/plain": [
              "       step      type     amount     nameOrig  oldbalanceOrg  newbalanceOrig  \\\n",
              "99995   235   CASH_IN  371042.71  C1973614102     1699365.85      2070408.56   \n",
              "99996   357   CASH_IN   19494.57   C287170039     1921089.11      1940583.68   \n",
              "99997   369  CASH_OUT  141519.24   C387888280           0.00            0.00   \n",
              "99998   154   CASH_IN  635412.68  C1458432906       58610.00       694022.68   \n",
              "99999   545   PAYMENT   31617.57  C1314607150       10626.00            0.00   \n",
              "\n",
              "          nameDest  oldbalanceDest  newbalanceDest  isFraud  isFlaggedFraud  \n",
              "99995  C1358214518      4301572.86      3930530.15        0               0  \n",
              "99996   C159882434        75635.52        56140.95        0               0  \n",
              "99997   C999640037     12853274.23     12994793.47        0               0  \n",
              "99998     C8292738            0.00            0.00        0               0  \n",
              "99999  M1600734161            0.00            0.00        0               0  "
            ]
          },
          "execution_count": 79,
          "metadata": {},
          "output_type": "execute_result"
        }
      ],
      "source": [
        "df.tail(5)       ## last 5 row\n"
      ]
    },
    {
      "cell_type": "code",
      "execution_count": 80,
      "metadata": {
        "colab": {
          "base_uri": "https://localhost:8080/"
        },
        "id": "K_nqiKWtlRZJ",
        "outputId": "f46b5631-18ba-4dd5-baba-42cf3bdef14e"
      },
      "outputs": [
        {
          "data": {
            "text/plain": [
              "Index(['step', 'type', 'amount', 'nameOrig', 'oldbalanceOrg', 'newbalanceOrig',\n",
              "       'nameDest', 'oldbalanceDest', 'newbalanceDest', 'isFraud',\n",
              "       'isFlaggedFraud'],\n",
              "      dtype='object')"
            ]
          },
          "execution_count": 80,
          "metadata": {},
          "output_type": "execute_result"
        }
      ],
      "source": [
        "df.columns              ## determine the name of columns"
      ]
    },
    {
      "cell_type": "code",
      "execution_count": 81,
      "metadata": {
        "colab": {
          "base_uri": "https://localhost:8080/"
        },
        "id": "doIgv5DklVYa",
        "outputId": "28ef583e-114b-40e7-8b75-e7afb8c928bb"
      },
      "outputs": [
        {
          "data": {
            "text/plain": [
              "(100000, 11)"
            ]
          },
          "execution_count": 81,
          "metadata": {},
          "output_type": "execute_result"
        }
      ],
      "source": [
        "df.shape            ## rows and columns number"
      ]
    },
    {
      "cell_type": "code",
      "execution_count": 82,
      "metadata": {
        "colab": {
          "base_uri": "https://localhost:8080/"
        },
        "id": "aMHiYbuulVMs",
        "outputId": "df363ac8-d1b1-49ea-e72b-8e03a685c425"
      },
      "outputs": [
        {
          "data": {
            "text/plain": [
              "1100000"
            ]
          },
          "execution_count": 82,
          "metadata": {},
          "output_type": "execute_result"
        }
      ],
      "source": [
        "df.size                ## rows * columns == total cells"
      ]
    },
    {
      "cell_type": "code",
      "execution_count": 83,
      "metadata": {
        "colab": {
          "base_uri": "https://localhost:8080/",
          "height": 204
        },
        "id": "Q4ak1pWzlVAp",
        "outputId": "0b98cab9-a62c-4903-b1fc-85ca5e1f7178"
      },
      "outputs": [
        {
          "data": {
            "text/plain": [
              "pandas.core.frame.DataFrame"
            ]
          },
          "execution_count": 83,
          "metadata": {},
          "output_type": "execute_result"
        }
      ],
      "source": [
        "type(df)           ## determine the type of dataframe\n"
      ]
    },
    {
      "cell_type": "code",
      "execution_count": 84,
      "metadata": {
        "colab": {
          "base_uri": "https://localhost:8080/"
        },
        "id": "yY0KJCV6lUx4",
        "outputId": "865a8066-200f-4ad2-976f-9951951ff107"
      },
      "outputs": [
        {
          "data": {
            "text/plain": [
              "RangeIndex(start=0, stop=100000, step=1)"
            ]
          },
          "execution_count": 84,
          "metadata": {},
          "output_type": "execute_result"
        }
      ],
      "source": [
        "df.index             ## determine the index of rows"
      ]
    },
    {
      "cell_type": "code",
      "execution_count": 85,
      "metadata": {
        "colab": {
          "base_uri": "https://localhost:8080/",
          "height": 429
        },
        "id": "PeW1B2ko05Ty",
        "outputId": "9895b0e9-4992-4ce0-c9e4-b83b446320e3"
      },
      "outputs": [
        {
          "data": {
            "text/plain": [
              "step              0\n",
              "type              0\n",
              "amount            0\n",
              "nameOrig          0\n",
              "oldbalanceOrg     0\n",
              "newbalanceOrig    0\n",
              "nameDest          0\n",
              "oldbalanceDest    0\n",
              "newbalanceDest    0\n",
              "isFraud           0\n",
              "isFlaggedFraud    0\n",
              "dtype: int64"
            ]
          },
          "execution_count": 85,
          "metadata": {},
          "output_type": "execute_result"
        }
      ],
      "source": [
        "df.isnull().sum()          ##determine the null values\n"
      ]
    },
    {
      "cell_type": "code",
      "execution_count": 86,
      "metadata": {
        "colab": {
          "base_uri": "https://localhost:8080/"
        },
        "id": "QZyKGcYv1LSS",
        "outputId": "650cfb1c-f78b-45a1-f026-563b3dff4a44"
      },
      "outputs": [
        {
          "name": "stdout",
          "output_type": "stream",
          "text": [
            "<class 'pandas.core.frame.DataFrame'>\n",
            "RangeIndex: 100000 entries, 0 to 99999\n",
            "Data columns (total 11 columns):\n",
            " #   Column          Non-Null Count   Dtype  \n",
            "---  ------          --------------   -----  \n",
            " 0   step            100000 non-null  int64  \n",
            " 1   type            100000 non-null  object \n",
            " 2   amount          100000 non-null  float64\n",
            " 3   nameOrig        100000 non-null  object \n",
            " 4   oldbalanceOrg   100000 non-null  float64\n",
            " 5   newbalanceOrig  100000 non-null  float64\n",
            " 6   nameDest        100000 non-null  object \n",
            " 7   oldbalanceDest  100000 non-null  float64\n",
            " 8   newbalanceDest  100000 non-null  float64\n",
            " 9   isFraud         100000 non-null  int64  \n",
            " 10  isFlaggedFraud  100000 non-null  int64  \n",
            "dtypes: float64(5), int64(3), object(3)\n",
            "memory usage: 8.4+ MB\n"
          ]
        }
      ],
      "source": [
        "df.info()       ## complete information about the dataframe"
      ]
    },
    {
      "cell_type": "code",
      "execution_count": 87,
      "metadata": {
        "colab": {
          "base_uri": "https://localhost:8080/"
        },
        "id": "BNcfxsky5EMd",
        "outputId": "4baaf72a-cb47-4540-ded8-431acc09ec41"
      },
      "outputs": [
        {
          "data": {
            "text/plain": [
              "np.int64(0)"
            ]
          },
          "execution_count": 87,
          "metadata": {},
          "output_type": "execute_result"
        }
      ],
      "source": [
        "df.duplicated().sum()      ## check is there any duplicate in dataframe"
      ]
    },
    {
      "cell_type": "code",
      "execution_count": 88,
      "metadata": {
        "id": "XYOsi7zF7-pL"
      },
      "outputs": [],
      "source": [
        "df.drop_duplicates(inplace=True)\n",
        "                                    ## drop that duplicate\n"
      ]
    },
    {
      "cell_type": "code",
      "execution_count": 89,
      "metadata": {
        "colab": {
          "base_uri": "https://localhost:8080/",
          "height": 459
        },
        "id": "l7v5W9Lz1LNy",
        "outputId": "becdc4f0-4c7b-45b7-a24d-7fcd8b78e413"
      },
      "outputs": [
        {
          "data": {
            "text/plain": [
              "0        0\n",
              "1        0\n",
              "2        0\n",
              "3        0\n",
              "4        0\n",
              "        ..\n",
              "99995    0\n",
              "99996    0\n",
              "99997    0\n",
              "99998    0\n",
              "99999    0\n",
              "Name: isFlaggedFraud, Length: 100000, dtype: int64"
            ]
          },
          "execution_count": 89,
          "metadata": {},
          "output_type": "execute_result"
        }
      ],
      "source": [
        "df.isFlaggedFraud                   ## print isFlaggedFraud column"
      ]
    },
    {
      "cell_type": "code",
      "execution_count": 90,
      "metadata": {
        "colab": {
          "base_uri": "https://localhost:8080/",
          "height": 459
        },
        "id": "Ev--n9k01LKB",
        "outputId": "cb8e4200-8295-431f-96bc-54cf6ab7da47"
      },
      "outputs": [
        {
          "data": {
            "text/plain": [
              "0        0\n",
              "1        0\n",
              "2        0\n",
              "3        0\n",
              "4        0\n",
              "        ..\n",
              "99995    0\n",
              "99996    0\n",
              "99997    0\n",
              "99998    0\n",
              "99999    0\n",
              "Name: isFraud, Length: 100000, dtype: int64"
            ]
          },
          "execution_count": 90,
          "metadata": {},
          "output_type": "execute_result"
        }
      ],
      "source": [
        "df.isFraud                    ## determine column isFraud"
      ]
    },
    {
      "cell_type": "code",
      "execution_count": 91,
      "metadata": {
        "colab": {
          "base_uri": "https://localhost:8080/",
          "height": 444
        },
        "id": "isqx2KpT2nIK",
        "outputId": "9a7bb225-14f5-432a-c022-21655393590a"
      },
      "outputs": [
        {
          "data": {
            "text/html": [
              "<div>\n",
              "<style scoped>\n",
              "    .dataframe tbody tr th:only-of-type {\n",
              "        vertical-align: middle;\n",
              "    }\n",
              "\n",
              "    .dataframe tbody tr th {\n",
              "        vertical-align: top;\n",
              "    }\n",
              "\n",
              "    .dataframe thead th {\n",
              "        text-align: right;\n",
              "    }\n",
              "</style>\n",
              "<table border=\"1\" class=\"dataframe\">\n",
              "  <thead>\n",
              "    <tr style=\"text-align: right;\">\n",
              "      <th></th>\n",
              "      <th>step</th>\n",
              "      <th>type</th>\n",
              "      <th>amount</th>\n",
              "      <th>nameOrig</th>\n",
              "      <th>oldbalanceOrg</th>\n",
              "      <th>newbalanceOrig</th>\n",
              "      <th>nameDest</th>\n",
              "      <th>oldbalanceDest</th>\n",
              "      <th>newbalanceDest</th>\n",
              "      <th>isFraud</th>\n",
              "      <th>isFlaggedFraud</th>\n",
              "    </tr>\n",
              "  </thead>\n",
              "  <tbody>\n",
              "    <tr>\n",
              "      <th>776</th>\n",
              "      <td>1</td>\n",
              "      <td>PAYMENT</td>\n",
              "      <td>4189.31</td>\n",
              "      <td>C978035840</td>\n",
              "      <td>124618.50</td>\n",
              "      <td>120429.20</td>\n",
              "      <td>M666312528</td>\n",
              "      <td>0.00</td>\n",
              "      <td>0.00</td>\n",
              "      <td>0</td>\n",
              "      <td>0</td>\n",
              "    </tr>\n",
              "    <tr>\n",
              "      <th>5465</th>\n",
              "      <td>1</td>\n",
              "      <td>TRANSFER</td>\n",
              "      <td>412906.88</td>\n",
              "      <td>C478182173</td>\n",
              "      <td>10353.00</td>\n",
              "      <td>0.00</td>\n",
              "      <td>C1068824137</td>\n",
              "      <td>20894.07</td>\n",
              "      <td>265092.36</td>\n",
              "      <td>0</td>\n",
              "      <td>0</td>\n",
              "    </tr>\n",
              "    <tr>\n",
              "      <th>9766</th>\n",
              "      <td>1</td>\n",
              "      <td>CASH_IN</td>\n",
              "      <td>317393.38</td>\n",
              "      <td>C1197721383</td>\n",
              "      <td>8906617.38</td>\n",
              "      <td>9224010.75</td>\n",
              "      <td>C1286084959</td>\n",
              "      <td>1175483.65</td>\n",
              "      <td>2107778.11</td>\n",
              "      <td>0</td>\n",
              "      <td>0</td>\n",
              "    </tr>\n",
              "    <tr>\n",
              "      <th>12178</th>\n",
              "      <td>1</td>\n",
              "      <td>CASH_IN</td>\n",
              "      <td>18194.34</td>\n",
              "      <td>C1063801186</td>\n",
              "      <td>3324026.03</td>\n",
              "      <td>3342220.38</td>\n",
              "      <td>C1335050193</td>\n",
              "      <td>278369.57</td>\n",
              "      <td>53743.06</td>\n",
              "      <td>0</td>\n",
              "      <td>0</td>\n",
              "    </tr>\n",
              "    <tr>\n",
              "      <th>13217</th>\n",
              "      <td>1</td>\n",
              "      <td>PAYMENT</td>\n",
              "      <td>885.95</td>\n",
              "      <td>C569976699</td>\n",
              "      <td>588.00</td>\n",
              "      <td>0.00</td>\n",
              "      <td>M538618049</td>\n",
              "      <td>0.00</td>\n",
              "      <td>0.00</td>\n",
              "      <td>0</td>\n",
              "      <td>0</td>\n",
              "    </tr>\n",
              "    <tr>\n",
              "      <th>...</th>\n",
              "      <td>...</td>\n",
              "      <td>...</td>\n",
              "      <td>...</td>\n",
              "      <td>...</td>\n",
              "      <td>...</td>\n",
              "      <td>...</td>\n",
              "      <td>...</td>\n",
              "      <td>...</td>\n",
              "      <td>...</td>\n",
              "      <td>...</td>\n",
              "      <td>...</td>\n",
              "    </tr>\n",
              "    <tr>\n",
              "      <th>52765</th>\n",
              "      <td>707</td>\n",
              "      <td>TRANSFER</td>\n",
              "      <td>4676.42</td>\n",
              "      <td>C1043527721</td>\n",
              "      <td>4676.42</td>\n",
              "      <td>0.00</td>\n",
              "      <td>C2017082627</td>\n",
              "      <td>0.00</td>\n",
              "      <td>0.00</td>\n",
              "      <td>1</td>\n",
              "      <td>0</td>\n",
              "    </tr>\n",
              "    <tr>\n",
              "      <th>65702</th>\n",
              "      <td>717</td>\n",
              "      <td>TRANSFER</td>\n",
              "      <td>751854.42</td>\n",
              "      <td>C438492576</td>\n",
              "      <td>751854.42</td>\n",
              "      <td>0.00</td>\n",
              "      <td>C1547774337</td>\n",
              "      <td>0.00</td>\n",
              "      <td>0.00</td>\n",
              "      <td>1</td>\n",
              "      <td>0</td>\n",
              "    </tr>\n",
              "    <tr>\n",
              "      <th>63243</th>\n",
              "      <td>721</td>\n",
              "      <td>CASH_OUT</td>\n",
              "      <td>23639.56</td>\n",
              "      <td>C427738422</td>\n",
              "      <td>23639.56</td>\n",
              "      <td>0.00</td>\n",
              "      <td>C950599910</td>\n",
              "      <td>140063.53</td>\n",
              "      <td>163703.10</td>\n",
              "      <td>1</td>\n",
              "      <td>0</td>\n",
              "    </tr>\n",
              "    <tr>\n",
              "      <th>78960</th>\n",
              "      <td>722</td>\n",
              "      <td>TRANSFER</td>\n",
              "      <td>21960.02</td>\n",
              "      <td>C1438426689</td>\n",
              "      <td>21960.02</td>\n",
              "      <td>0.00</td>\n",
              "      <td>C213308373</td>\n",
              "      <td>0.00</td>\n",
              "      <td>0.00</td>\n",
              "      <td>1</td>\n",
              "      <td>0</td>\n",
              "    </tr>\n",
              "    <tr>\n",
              "      <th>47115</th>\n",
              "      <td>736</td>\n",
              "      <td>CASH_OUT</td>\n",
              "      <td>172915.56</td>\n",
              "      <td>C962323728</td>\n",
              "      <td>172915.56</td>\n",
              "      <td>0.00</td>\n",
              "      <td>C1193568854</td>\n",
              "      <td>7674508.70</td>\n",
              "      <td>7847424.27</td>\n",
              "      <td>1</td>\n",
              "      <td>0</td>\n",
              "    </tr>\n",
              "  </tbody>\n",
              "</table>\n",
              "<p>100000 rows × 11 columns</p>\n",
              "</div>"
            ],
            "text/plain": [
              "       step      type     amount     nameOrig  oldbalanceOrg  newbalanceOrig  \\\n",
              "776       1   PAYMENT    4189.31   C978035840      124618.50       120429.20   \n",
              "5465      1  TRANSFER  412906.88   C478182173       10353.00            0.00   \n",
              "9766      1   CASH_IN  317393.38  C1197721383     8906617.38      9224010.75   \n",
              "12178     1   CASH_IN   18194.34  C1063801186     3324026.03      3342220.38   \n",
              "13217     1   PAYMENT     885.95   C569976699         588.00            0.00   \n",
              "...     ...       ...        ...          ...            ...             ...   \n",
              "52765   707  TRANSFER    4676.42  C1043527721        4676.42            0.00   \n",
              "65702   717  TRANSFER  751854.42   C438492576      751854.42            0.00   \n",
              "63243   721  CASH_OUT   23639.56   C427738422       23639.56            0.00   \n",
              "78960   722  TRANSFER   21960.02  C1438426689       21960.02            0.00   \n",
              "47115   736  CASH_OUT  172915.56   C962323728      172915.56            0.00   \n",
              "\n",
              "          nameDest  oldbalanceDest  newbalanceDest  isFraud  isFlaggedFraud  \n",
              "776     M666312528            0.00            0.00        0               0  \n",
              "5465   C1068824137        20894.07       265092.36        0               0  \n",
              "9766   C1286084959      1175483.65      2107778.11        0               0  \n",
              "12178  C1335050193       278369.57        53743.06        0               0  \n",
              "13217   M538618049            0.00            0.00        0               0  \n",
              "...            ...             ...             ...      ...             ...  \n",
              "52765  C2017082627            0.00            0.00        1               0  \n",
              "65702  C1547774337            0.00            0.00        1               0  \n",
              "63243   C950599910       140063.53       163703.10        1               0  \n",
              "78960   C213308373            0.00            0.00        1               0  \n",
              "47115  C1193568854      7674508.70      7847424.27        1               0  \n",
              "\n",
              "[100000 rows x 11 columns]"
            ]
          },
          "execution_count": 91,
          "metadata": {},
          "output_type": "execute_result"
        }
      ],
      "source": [
        "df.sort_values(by= [\"isFraud\",\"step\"])         ## sort the value of two columns"
      ]
    },
    {
      "cell_type": "code",
      "execution_count": 92,
      "metadata": {
        "id": "K3wtARtj1LG4"
      },
      "outputs": [],
      "source": [
        "df = df.drop(columns=[\"type\", \"nameDest\", \"nameOrig\", \"isFlaggedFraud\"])     ## delete these columns\n"
      ]
    },
    {
      "cell_type": "code",
      "execution_count": 93,
      "metadata": {
        "colab": {
          "base_uri": "https://localhost:8080/",
          "height": 424
        },
        "id": "7N8Y7VBf1LDq",
        "outputId": "141d7cb7-e97f-4897-99ff-01eb725b8385"
      },
      "outputs": [
        {
          "data": {
            "text/html": [
              "<div>\n",
              "<style scoped>\n",
              "    .dataframe tbody tr th:only-of-type {\n",
              "        vertical-align: middle;\n",
              "    }\n",
              "\n",
              "    .dataframe tbody tr th {\n",
              "        vertical-align: top;\n",
              "    }\n",
              "\n",
              "    .dataframe thead th {\n",
              "        text-align: right;\n",
              "    }\n",
              "</style>\n",
              "<table border=\"1\" class=\"dataframe\">\n",
              "  <thead>\n",
              "    <tr style=\"text-align: right;\">\n",
              "      <th></th>\n",
              "      <th>step</th>\n",
              "      <th>amount</th>\n",
              "      <th>oldbalanceOrg</th>\n",
              "      <th>newbalanceOrig</th>\n",
              "      <th>oldbalanceDest</th>\n",
              "      <th>newbalanceDest</th>\n",
              "      <th>isFraud</th>\n",
              "    </tr>\n",
              "  </thead>\n",
              "  <tbody>\n",
              "    <tr>\n",
              "      <th>0</th>\n",
              "      <td>278</td>\n",
              "      <td>330218.42</td>\n",
              "      <td>20866.00</td>\n",
              "      <td>351084.42</td>\n",
              "      <td>452419.57</td>\n",
              "      <td>122201.15</td>\n",
              "      <td>0</td>\n",
              "    </tr>\n",
              "    <tr>\n",
              "      <th>1</th>\n",
              "      <td>15</td>\n",
              "      <td>11647.08</td>\n",
              "      <td>30370.00</td>\n",
              "      <td>18722.92</td>\n",
              "      <td>0.00</td>\n",
              "      <td>0.00</td>\n",
              "      <td>0</td>\n",
              "    </tr>\n",
              "    <tr>\n",
              "      <th>2</th>\n",
              "      <td>10</td>\n",
              "      <td>152264.21</td>\n",
              "      <td>106589.00</td>\n",
              "      <td>258853.21</td>\n",
              "      <td>201303.01</td>\n",
              "      <td>49038.80</td>\n",
              "      <td>0</td>\n",
              "    </tr>\n",
              "    <tr>\n",
              "      <th>3</th>\n",
              "      <td>403</td>\n",
              "      <td>1551760.63</td>\n",
              "      <td>0.00</td>\n",
              "      <td>0.00</td>\n",
              "      <td>3198359.45</td>\n",
              "      <td>4750120.08</td>\n",
              "      <td>0</td>\n",
              "    </tr>\n",
              "    <tr>\n",
              "      <th>4</th>\n",
              "      <td>206</td>\n",
              "      <td>78172.30</td>\n",
              "      <td>2921331.58</td>\n",
              "      <td>2999503.88</td>\n",
              "      <td>415821.90</td>\n",
              "      <td>337649.60</td>\n",
              "      <td>0</td>\n",
              "    </tr>\n",
              "    <tr>\n",
              "      <th>...</th>\n",
              "      <td>...</td>\n",
              "      <td>...</td>\n",
              "      <td>...</td>\n",
              "      <td>...</td>\n",
              "      <td>...</td>\n",
              "      <td>...</td>\n",
              "      <td>...</td>\n",
              "    </tr>\n",
              "    <tr>\n",
              "      <th>99995</th>\n",
              "      <td>235</td>\n",
              "      <td>371042.71</td>\n",
              "      <td>1699365.85</td>\n",
              "      <td>2070408.56</td>\n",
              "      <td>4301572.86</td>\n",
              "      <td>3930530.15</td>\n",
              "      <td>0</td>\n",
              "    </tr>\n",
              "    <tr>\n",
              "      <th>99996</th>\n",
              "      <td>357</td>\n",
              "      <td>19494.57</td>\n",
              "      <td>1921089.11</td>\n",
              "      <td>1940583.68</td>\n",
              "      <td>75635.52</td>\n",
              "      <td>56140.95</td>\n",
              "      <td>0</td>\n",
              "    </tr>\n",
              "    <tr>\n",
              "      <th>99997</th>\n",
              "      <td>369</td>\n",
              "      <td>141519.24</td>\n",
              "      <td>0.00</td>\n",
              "      <td>0.00</td>\n",
              "      <td>12853274.23</td>\n",
              "      <td>12994793.47</td>\n",
              "      <td>0</td>\n",
              "    </tr>\n",
              "    <tr>\n",
              "      <th>99998</th>\n",
              "      <td>154</td>\n",
              "      <td>635412.68</td>\n",
              "      <td>58610.00</td>\n",
              "      <td>694022.68</td>\n",
              "      <td>0.00</td>\n",
              "      <td>0.00</td>\n",
              "      <td>0</td>\n",
              "    </tr>\n",
              "    <tr>\n",
              "      <th>99999</th>\n",
              "      <td>545</td>\n",
              "      <td>31617.57</td>\n",
              "      <td>10626.00</td>\n",
              "      <td>0.00</td>\n",
              "      <td>0.00</td>\n",
              "      <td>0.00</td>\n",
              "      <td>0</td>\n",
              "    </tr>\n",
              "  </tbody>\n",
              "</table>\n",
              "<p>100000 rows × 7 columns</p>\n",
              "</div>"
            ],
            "text/plain": [
              "       step      amount  oldbalanceOrg  newbalanceOrig  oldbalanceDest  \\\n",
              "0       278   330218.42       20866.00       351084.42       452419.57   \n",
              "1        15    11647.08       30370.00        18722.92            0.00   \n",
              "2        10   152264.21      106589.00       258853.21       201303.01   \n",
              "3       403  1551760.63           0.00            0.00      3198359.45   \n",
              "4       206    78172.30     2921331.58      2999503.88       415821.90   \n",
              "...     ...         ...            ...             ...             ...   \n",
              "99995   235   371042.71     1699365.85      2070408.56      4301572.86   \n",
              "99996   357    19494.57     1921089.11      1940583.68        75635.52   \n",
              "99997   369   141519.24           0.00            0.00     12853274.23   \n",
              "99998   154   635412.68       58610.00       694022.68            0.00   \n",
              "99999   545    31617.57       10626.00            0.00            0.00   \n",
              "\n",
              "       newbalanceDest  isFraud  \n",
              "0           122201.15        0  \n",
              "1                0.00        0  \n",
              "2            49038.80        0  \n",
              "3          4750120.08        0  \n",
              "4           337649.60        0  \n",
              "...               ...      ...  \n",
              "99995      3930530.15        0  \n",
              "99996        56140.95        0  \n",
              "99997     12994793.47        0  \n",
              "99998            0.00        0  \n",
              "99999            0.00        0  \n",
              "\n",
              "[100000 rows x 7 columns]"
            ]
          },
          "execution_count": 93,
          "metadata": {},
          "output_type": "execute_result"
        }
      ],
      "source": [
        "df"
      ]
    },
    {
      "cell_type": "code",
      "execution_count": 94,
      "metadata": {
        "id": "XBV3eLFnqJSA"
      },
      "outputs": [],
      "source": [
        "X = df.drop(\"isFraud\", axis=1)         ## take rest columns from \"isFraud\"\n",
        "y = df[\"isFraud\"]                      ## only take the column \"isFraud\""
      ]
    },
    {
      "cell_type": "code",
      "execution_count": 95,
      "metadata": {
        "id": "9AoKX0wA12c6"
      },
      "outputs": [],
      "source": [
        "from sklearn.model_selection import train_test_split          ## train,test library\n",
        "\n",
        "X_train, X_test, y_train, y_test = train_test_split( X, y, test_size=0.3,random_state=42)  ## initialize values of training and testing\n",
        "                                                                                       ##  test  contain 0.3 == 30% data and  70% for training\n",
        "                                                                                       ## random state = 42 after each cycle value remain same\n",
        "\n"
      ]
    },
    {
      "cell_type": "code",
      "execution_count": 96,
      "metadata": {
        "colab": {
          "base_uri": "https://localhost:8080/"
        },
        "id": "wezWhZ-7lwRv",
        "outputId": "132ab51b-9f4d-45e1-bdcd-2ac996f39f96"
      },
      "outputs": [
        {
          "name": "stdout",
          "output_type": "stream",
          "text": [
            "(70000, 6) (70000,)\n"
          ]
        }
      ],
      "source": [
        "print(X_train.shape,y_train.shape)      ## after training and testing check the shape of training data"
      ]
    },
    {
      "cell_type": "code",
      "execution_count": 97,
      "metadata": {
        "colab": {
          "base_uri": "https://localhost:8080/"
        },
        "id": "VDZoiDAzld8H",
        "outputId": "43a0fe0d-cdf8-400d-b0af-edc250d1efaa"
      },
      "outputs": [
        {
          "name": "stdout",
          "output_type": "stream",
          "text": [
            "step              0\n",
            "amount            0\n",
            "oldbalanceOrg     0\n",
            "newbalanceOrig    0\n",
            "oldbalanceDest    0\n",
            "newbalanceDest    0\n",
            "dtype: int64\n",
            "step              0\n",
            "amount            0\n",
            "oldbalanceOrg     0\n",
            "newbalanceOrig    0\n",
            "oldbalanceDest    0\n",
            "newbalanceDest    0\n",
            "dtype: int64\n"
          ]
        }
      ],
      "source": [
        "print(X_train.isnull().sum())\n",
        "print(X_test.isnull().sum())               ## check null values in x_test and x_train"
      ]
    },
    {
      "cell_type": "code",
      "execution_count": 98,
      "metadata": {
        "id": "IKrEPfeKFr9e"
      },
      "outputs": [],
      "source": [
        "# X_test = X_test.fillna(0)         ## we will fill value 0 in place of 1 or we can also fill the mean here  because model can't handle naN instead of numeric 0,1\n"
      ]
    },
    {
      "cell_type": "code",
      "execution_count": 99,
      "metadata": {
        "colab": {
          "base_uri": "https://localhost:8080/"
        },
        "id": "pt4iwBDQmyvM",
        "outputId": "3adc6db8-093a-47a0-965a-09d02e5880de"
      },
      "outputs": [
        {
          "name": "stdout",
          "output_type": "stream",
          "text": [
            "0\n",
            "0\n"
          ]
        }
      ],
      "source": [
        "print(y_train.isnull().sum())\n",
        "print(y_test.isnull().sum())      ## check null values in y_test and y_train\n"
      ]
    },
    {
      "cell_type": "code",
      "execution_count": 100,
      "metadata": {
        "id": "nGHRYYr2GWmo"
      },
      "outputs": [],
      "source": [
        "# test_df = pd.concat([X_test, y_test], axis=1)       ## now we will check y_test and columns in x_test\n",
        "\n",
        "\n",
        "# test_df = test_df.dropna(subset=[\"isFraud\"])        ## drop those rows having y_test is naN\n",
        "\n",
        "# Socho tumhare paas ek answer sheet hai (X_test) aur uske correct answers (y_test) alag file me hain.\n",
        "# Kuch answers missing hain. Tum dono ko ek table me jodte ho, dekhte ho kaunse blank hain, unhe hata ke baaki valid answers ke saath model ko test karte ho\n",
        "\n"
      ]
    },
    {
      "cell_type": "code",
      "execution_count": 101,
      "metadata": {
        "id": "gb0dxXlMILZB"
      },
      "outputs": [],
      "source": [
        "# X_test = test_df.drop(\"isFraud\", axis=1)     ## again assign values\n",
        "# y_test = test_df[\"isFraud\"]"
      ]
    },
    {
      "cell_type": "code",
      "execution_count": 102,
      "metadata": {},
      "outputs": [],
      "source": [
        "X_test = df.drop(\"isFraud\", axis=1)     ## again assign values\n",
        "y_test = df[\"isFraud\"]"
      ]
    },
    {
      "cell_type": "markdown",
      "metadata": {
        "id": "ZLaxMnEcLFDg"
      },
      "source": [
        "\n",
        "class weight = Automatically adjusts weight for each class based on how many samples there are\n",
        "class_weight='balanced'\n",
        "\n",
        "Model sees:\n",
        "\n",
        "    99,900 \"Not Fraud\"\n",
        "\n",
        "    100 \"Fraud\"\n",
        "\n",
        "Predicts: always \"Not Fraud\"\n",
        "\n",
        "Accuracy: 99.9%\n",
        "\n",
        "But zero frauds caught"
      ]
    },
    {
      "cell_type": "code",
      "execution_count": 103,
      "metadata": {
        "colab": {
          "base_uri": "https://localhost:8080/"
        },
        "id": "DEw6mqkNnfXX",
        "outputId": "fef16718-f74f-4a54-d4fd-51f2f78dcc4e"
      },
      "outputs": [
        {
          "name": "stdout",
          "output_type": "stream",
          "text": [
            "Accuracy: 0.98541\n",
            "ROC AUC: 0.9949204974759092\n",
            "              precision    recall  f1-score   support\n",
            "\n",
            "           0       1.00      0.99      0.99     99859\n",
            "           1       0.09      0.99      0.16       141\n",
            "\n",
            "    accuracy                           0.99    100000\n",
            "   macro avg       0.54      0.99      0.58    100000\n",
            "weighted avg       1.00      0.99      0.99    100000\n",
            "\n"
          ]
        }
      ],
      "source": [
        "from sklearn.linear_model import LogisticRegression                   ## import logistic regression\n",
        "from sklearn.metrics import classification_report, accuracy_score, roc_auc_score ##auuracy,report,check the fraud things like as probability\n",
        "# # # separate the ability of model .Perfect = 1.0.Random guess = 0. Below 0.5 = model is confused\n",
        "\n",
        "lr_model = LogisticRegression(max_iter=1000, class_weight='balanced') ## determine the model :iteration = 1000,\n",
        "\n",
        "# # ## if we dont use class weight  model always give the not fraud result\n",
        "\n",
        "lr_model.fit(X_train, y_train)          ## fit training data to model\n",
        "\n",
        "\n",
        "y_pred = lr_model.predict(X_test)                ## predict y for testing. internally model check the probability >= 0.5 then predict 1 otherwise 0\n",
        "y_proba = lr_model.predict_proba(X_test)[:, 1]     ## predict probability of being fraud\n",
        "\n",
        "print(\"Accuracy:\", accuracy_score(y_test, y_pred))     ## accuracy of y_test and y_pred\n",
        "print(\"ROC AUC:\", roc_auc_score(y_test, y_proba))       ## roc_auc_score of y_test and y_probability\n",
        "print(classification_report(y_test, y_pred))             ## classification report"
      ]
    },
    {
      "cell_type": "code",
      "execution_count": 104,
      "metadata": {
        "colab": {
          "base_uri": "https://localhost:8080/",
          "height": 410
        },
        "id": "64oZci-Qm8lO",
        "outputId": "ef7176e5-21e4-48e4-869d-b7bc5f265e91"
      },
      "outputs": [
        {
          "data": {
            "image/png": "[encoded data removed]",
            "text/plain": [
              "<Figure size 600x400 with 1 Axes>"
            ]
          },
          "metadata": {},
          "output_type": "display_data"
        }
      ],
      "source": [
        "from sklearn.metrics import roc_curve, auc\n",
        "\n",
        "fpr, tpr, thresholds = roc_curve(y_test, y_proba)      ## true positive rate,false positive rate,threshold = different values between 1 to 0\n",
        "roc_auc = auc(fpr, tpr)                   ## auc = area under the curve\n",
        "\n",
        "plt.figure(figsize=(6, 4))\n",
        "plt.plot(fpr, tpr, label=f\"AUC = {roc_auc:.2f}\")         ## rounding off upto 2 points\n",
        "plt.plot([0, 1], [0, 1], linestyle='--')                  ## diagonal representation via ---\n",
        "plt.xlabel(\"False Positive Rate\")\n",
        "plt.ylabel(\"True Positive Rate\")\n",
        "plt.title(\"ROC Curve - Logistic Regression\")\n",
        "plt.legend()\n",
        "plt.grid()\n",
        "plt.show()"
      ]
    }
  ],
  "metadata": {
    "colab": {
      "provenance": []
    },
    "kernelspec": {
      "display_name": "Python 3",
      "name": "python3"
    },
    "language_info": {
      "codemirror_mode": {
        "name": "ipython",
        "version": 3
      },
      "file_extension": ".py",
      "mimetype": "text/x-python",
      "name": "python",
      "nbconvert_exporter": "python",
      "pygments_lexer": "ipython3",
      "version": "3.12.0"
    }
  },
  "nbformat": 4,
  "nbformat_minor": 0
}
